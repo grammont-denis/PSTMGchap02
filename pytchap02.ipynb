{
 "cells": [
  {
   "cell_type": "markdown",
   "metadata": {},
   "source": [
    "Interaction n°1\n",
    "Compléter l’algorithme et le programme suivants afin d’indiquer le taux et le coefficient multiplicateur connaissant les valeurs initiale et finale d’une évolution."
   ]
  },
  {
   "cell_type": "code",
   "execution_count": null,
   "metadata": {},
   "outputs": [],
   "source": [
    "from math import*\n",
    "Vi=float(input(\"Valeur ###\n",
    "Vf= ###\n",
    "CM= ###\n",
    "T= ###\n",
    "print(\"CM=\" ###\n",
    "print(\"T=\",T,\"%\")"
   ]
  },
  {
   "cell_type": "markdown",
   "metadata": {},
   "source": [
    "Interaction n°2\n",
    "Ecrire votre programme pour calculer le taux global connaissant deux taux successifs."
   ]
  },
  {
   "cell_type": "code",
   "execution_count": null,
   "metadata": {},
   "outputs": [],
   "source": [
    "from math import*\n",
    "###\n",
    "###\n",
    "###\n",
    "###\n",
    "###\n",
    "###\n",
    "print(\"Taux global=\",Tg,\"%\")"
   ]
  }
 ],
 "metadata": {
  "kernelspec": {
   "display_name": "Python 3",
   "language": "python",
   "name": "python3"
  },
  "language_info": {
   "codemirror_mode": {
    "name": "ipython",
    "version": 3
   },
   "file_extension": ".py",
   "mimetype": "text/x-python",
   "name": "python",
   "nbconvert_exporter": "python",
   "pygments_lexer": "ipython3",
   "version": "3.7.6"
  }
 },
 "nbformat": 4,
 "nbformat_minor": 4
}
